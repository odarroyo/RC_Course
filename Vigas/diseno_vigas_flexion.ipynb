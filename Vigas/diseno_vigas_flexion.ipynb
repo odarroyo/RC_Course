{
 "cells": [
  {
   "cell_type": "markdown",
   "id": "d414d181-f7ec-4750-9f3c-6028ca7016e6",
   "metadata": {},
   "source": [
    "## Diseño de Vigas de concreto reforzado\n",
    "\n"
   ]
  },
  {
   "cell_type": "markdown",
   "id": "099e98c3-613f-4bc0-b2b7-054b64d8a161",
   "metadata": {},
   "source": [
    "### Cálculo del momento nominal resistente"
   ]
  },
  {
   "cell_type": "code",
   "execution_count": 1,
   "id": "7ad8b08c-8822-45c3-be65-6e9a3fc2aa33",
   "metadata": {},
   "outputs": [
    {
     "data": {
      "application/vnd.jupyter.widget-view+json": {
       "model_id": "d27149d7b5354fb9bcd75e1d07b1bd4f",
       "version_major": 2,
       "version_minor": 0
      },
      "text/plain": [
       "interactive(children=(FloatSlider(value=4.0, description='As:', max=20.0, min=1.0), Dropdown(description='fc:'…"
      ]
     },
     "metadata": {},
     "output_type": "display_data"
    }
   ],
   "source": [
    "from ipywidgets import interactive, HBox, VBox, FloatLogSlider, FloatSlider, Dropdown\n",
    "import plotly.graph_objects as go\n",
    "import numpy as np\n",
    "\n",
    "# Constants\n",
    "Fy = 420000\n",
    "\n",
    "# Function to calculate M based on As, fc, d, and b\n",
    "def calculate_M(As, fc, d, b):\n",
    "    return As/10000 * Fy * (d - (As/10000) * Fy / (1.7 * fc * b))\n",
    "\n",
    "# Function to update the graph\n",
    "def update_plot(As, fc, d, b):\n",
    "    M = calculate_M(As, fc, d, b)\n",
    "\n",
    "    # Create a plotly figure\n",
    "    fig = go.Figure()\n",
    "    fig.add_trace(go.Indicator(\n",
    "        mode=\"number\",\n",
    "        value=M,\n",
    "        title={\"text\": \"Valor de M\"}))\n",
    "    fig.update_layout(title='Momento nominal resistente',\n",
    "                      width=500,\n",
    "                      height=300)\n",
    "    fig.show()\n",
    "\n",
    "# Create interactive widgets\n",
    "As_slider = FloatSlider(value=4, min=1, max=20, step=0.1, description='As:')\n",
    "fc_dropdown = Dropdown(options=[21000, 28000, 35000, 42000], value=21000, description='fc:')\n",
    "d_slider = FloatSlider(value=0.4, min=0.2, max=1.0, step=0.05, description='d:')\n",
    "b_slider = FloatSlider(value=0.3, min=0.2, max=1.0, step=0.05, description='b:')\n",
    "\n",
    "# Group widgets and display the interactive plot\n",
    "interactive_plot = interactive(update_plot, As=As_slider, fc=fc_dropdown, d=d_slider, b=b_slider)\n",
    "display(interactive_plot)\n"
   ]
  },
  {
   "cell_type": "markdown",
   "id": "cd4c2038-caf5-4b46-8d9c-847cd9f2216f",
   "metadata": {},
   "source": [
    "### Cálculo de la cuantía requerida"
   ]
  },
  {
   "cell_type": "code",
   "execution_count": 2,
   "id": "f037da51-6506-4759-b98b-cfd05cc12da5",
   "metadata": {},
   "outputs": [
    {
     "data": {
      "application/vnd.jupyter.widget-view+json": {
       "model_id": "8cdb9295219948dd82dca081f940a36d",
       "version_major": 2,
       "version_minor": 0
      },
      "text/plain": [
       "interactive(children=(Dropdown(description='fc:', options=(21000, 28000, 35000, 42000), value=21000), FloatSli…"
      ]
     },
     "metadata": {},
     "output_type": "display_data"
    }
   ],
   "source": [
    "def calculate_ro(fc, d, b, M):\n",
    "    m = Fy/(0.85*fc)\n",
    "    k = M/(b*d**2)\n",
    "    ro = 1/m*(1-np.sqrt(1-2*m*k/Fy))\n",
    "    return ro\n",
    "\n",
    "# Function to update the graph\n",
    "def update_plot2(fc, d, b, M):\n",
    "    ro = calculate_ro(fc, d, b, M)\n",
    "\n",
    "    # Create a plotly figure\n",
    "    fig = go.Figure()\n",
    "    fig.add_trace(go.Indicator(\n",
    "        mode=\"number\",\n",
    "        value=ro,\n",
    "        title={\"text\": \"Valor de cuantía\"}))\n",
    "    fig.update_layout(title='Cuantía requerida',\n",
    "                      width=500,\n",
    "                      height=300)\n",
    "    fig.show()\n",
    "\n",
    "# Create interactive widgets\n",
    "M_slider = FloatSlider(value=30, min=10, max=200, step=0.1, description='M:')\n",
    "fc_dropdown = Dropdown(options=[21000, 28000, 35000, 42000], value=21000, description='fc:')\n",
    "d_slider = FloatSlider(value=0.3, min=0.2, max=1.0, step=0.05, description='d:')\n",
    "b_slider = FloatSlider(value=0.3, min=0.2, max=1.0, step=0.05, description='b:')\n",
    "\n",
    "# Group widgets and display the interactive plot\n",
    "interactive_plot2 = interactive(update_plot2, M=M_slider, fc=fc_dropdown, d=d_slider, b=b_slider)\n",
    "display(interactive_plot2)"
   ]
  },
  {
   "cell_type": "code",
   "execution_count": null,
   "id": "713005d5-8f9a-42e9-9c6a-c1635cfc210a",
   "metadata": {},
   "outputs": [],
   "source": []
  }
 ],
 "metadata": {
  "kernelspec": {
   "display_name": "Python 3 (ipykernel)",
   "language": "python",
   "name": "python3"
  },
  "language_info": {
   "codemirror_mode": {
    "name": "ipython",
    "version": 3
   },
   "file_extension": ".py",
   "mimetype": "text/x-python",
   "name": "python",
   "nbconvert_exporter": "python",
   "pygments_lexer": "ipython3",
   "version": "3.11.5"
  }
 },
 "nbformat": 4,
 "nbformat_minor": 5
}
